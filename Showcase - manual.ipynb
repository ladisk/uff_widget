{
 "cells": [
  {
   "cell_type": "code",
   "execution_count": 1,
   "metadata": {},
   "outputs": [],
   "source": [
    "import uff_widget"
   ]
  },
  {
   "cell_type": "code",
   "execution_count": 2,
   "metadata": {},
   "outputs": [],
   "source": [
    "path = \"C:\\\\Users\\\\Lovro\\\\Documents\\\\5.Letnik\\\\Magistrska\\\\Podatki in meritve\\\\Tree_structure.uff\"\n",
    "file,uffdict,nodes,indices = uff_widget.analyze(path)"
   ]
  },
  {
   "cell_type": "code",
   "execution_count": 3,
   "metadata": {},
   "outputs": [
    {
     "name": "stdout",
     "output_type": "stream",
     "text": [
      "Name: 3D tree structure \n",
      "Description: Dimention: 379x179x474 - CAD model: tree.step\n",
      "In 1. dataset15 is data for 44 points\n",
      "In datasets 55 are data for:\n",
      "                             normal mode in 43 points\n",
      "In datasets 58 are data for:\n",
      "                             Frequency Response Function in 43 points\n"
     ]
    }
   ],
   "source": [
    "uff_widget.get_info(file,uffdict,nodes)"
   ]
  },
  {
   "cell_type": "code",
   "execution_count": 4,
   "metadata": {},
   "outputs": [
    {
     "data": {
      "application/vnd.jupyter.widget-view+json": {
       "model_id": "096a06119f384369a900dd9a5d7fa337",
       "version_major": 2,
       "version_minor": 0
      },
      "text/plain": [
       "HBox(children=(Figure(camera=PerspectiveCamera(fov=46.0, position=(0.0, 0.0, 2.0), quaternion=(0.0, 0.0, 0.0, …"
      ]
     },
     "metadata": {},
     "output_type": "display_data"
    }
   ],
   "source": [
    "buttons,drop = uff_widget.viz(file,uffdict,nodes)"
   ]
  },
  {
   "cell_type": "code",
   "execution_count": 5,
   "metadata": {},
   "outputs": [
    {
     "data": {
      "application/vnd.jupyter.widget-view+json": {
       "model_id": "36c8fa3d8d884a3590ce8402c1164625",
       "version_major": 2,
       "version_minor": 0
      },
      "text/plain": [
       "HBox(children=(VBox(children=(Output(), Output())), VBox(children=(Label(value='Chose normal freqence'), HBox(…"
      ]
     },
     "metadata": {},
     "output_type": "display_data"
    }
   ],
   "source": [
    "if buttons.value == 'Analysis':\n",
    "    data,dinfo = uff_widget.get_data55(file,uffdict,indices['55'],drop)\n",
    "if buttons.value == 'Function data':\n",
    "    data,dinfo = uff_widget.get_data58(file,uffdict,indices['58'],drop)\n",
    "uff_widget.viz(file,uffdict,data,dinfo)"
   ]
  }
 ],
 "metadata": {
  "kernelspec": {
   "display_name": "Python 3",
   "language": "python",
   "name": "python3"
  },
  "language_info": {
   "codemirror_mode": {
    "name": "ipython",
    "version": 3
   },
   "file_extension": ".py",
   "mimetype": "text/x-python",
   "name": "python",
   "nbconvert_exporter": "python",
   "pygments_lexer": "ipython3",
   "version": "3.6.4"
  }
 },
 "nbformat": 4,
 "nbformat_minor": 2
}
