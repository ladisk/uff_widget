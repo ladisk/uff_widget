{
 "cells": [
  {
   "cell_type": "code",
   "execution_count": 1,
   "metadata": {},
   "outputs": [],
   "source": [
    "import pandas as pd\n",
    "import numpy as np\n",
    "import ipyvolume as ipv\n",
    "import pyuff\n",
    "import os"
   ]
  },
  {
   "cell_type": "code",
   "execution_count": 2,
   "metadata": {},
   "outputs": [],
   "source": [
    "df = pd.read_excel('tocke_drevo-1.xlsx')\n",
    "cx = np.array([1,0,0])*10\n",
    "cy = np.array([0,1,0])*10\n",
    "cz = np.array([0,0,1])*10\n",
    "x = df['X']\n",
    "y = df['Y']\n",
    "z = df['Z']\n",
    "tm_i = df.keys()[4:-3]"
   ]
  },
  {
   "cell_type": "code",
   "execution_count": 3,
   "metadata": {},
   "outputs": [],
   "source": [
    "trans_matrices = []\n",
    "j = 0\n",
    "t = []\n",
    "for i in tm_i:\n",
    "    t.append(np.asarray(df[i][:3]))\n",
    "    j+=1\n",
    "    if j==3:\n",
    "        j=0\n",
    "        t=np.cos(np.transpose(np.asarray(t))*np.pi/180)\n",
    "        trans_matrices.append(t)\n",
    "        t=[]"
   ]
  },
  {
   "cell_type": "code",
   "execution_count": 4,
   "metadata": {},
   "outputs": [],
   "source": [
    "uffwrite = pyuff.UFF('./Tree_structure_mini.uff')"
   ]
  },
  {
   "cell_type": "code",
   "execution_count": 5,
   "metadata": {},
   "outputs": [],
   "source": [
    "data={'type':151,\n",
    "      'model_name':'3D tree structure',\n",
    "      'description':'Dimention: 379x179x474 - CAD model: tree.step',\n",
    "      'db_app':'0',\n",
    "      'program':'0'}\n",
    "uffwrite._write_set(data,'overwrite')"
   ]
  },
  {
   "cell_type": "code",
   "execution_count": 6,
   "metadata": {},
   "outputs": [],
   "source": [
    "data={'type':15,\n",
    "      'node_nums':np.array(range(len(x))),\n",
    "      'def_cs':np.zeros_like(x),\n",
    "      'disp_cs':list(df['cs']),\n",
    "      'color':np.ones_like(x),\n",
    "      'x':x,\n",
    "      'y':y,\n",
    "      'z':z}\n",
    "uffwrite._write_set(data,'add')"
   ]
  },
  {
   "cell_type": "code",
   "execution_count": 7,
   "metadata": {},
   "outputs": [],
   "source": [
    "traces = []\n",
    "for i in range(1,len(df['cs'])):\n",
    "    if len(traces)<df['cs'][i]:\n",
    "        traces.append([])\n",
    "    traces[df['cs'][i]-1].append(i)"
   ]
  },
  {
   "cell_type": "code",
   "execution_count": 8,
   "metadata": {},
   "outputs": [],
   "source": [
    "for i in range(len(traces)):\n",
    "    data={'type': 82,\n",
    "     'trace_num': i+1,\n",
    "     'n_nodes': len(traces[i]),\n",
    "     'color': 0,\n",
    "     'id': 'line %i'%(i+1),\n",
    "     'nodes': np.asarray(traces[i])}\n",
    "    uffwrite._write_set(data,'add')"
   ]
  },
  {
   "cell_type": "code",
   "execution_count": 9,
   "metadata": {},
   "outputs": [],
   "source": [
    "n = len(trans_matrices)\n",
    "tm = np.zeros([4*n,3])\n",
    "for i in range(n):\n",
    "    tm[4*i:4*i+3,:]=trans_matrices[i]\n",
    "    tm[4*i+3,:]=[0,0,0]"
   ]
  },
  {
   "cell_type": "code",
   "execution_count": 11,
   "metadata": {},
   "outputs": [],
   "source": [
    "data={'type':2420,\n",
    "      'nodes':np.array(range(n)),\n",
    "      'local_cs':tm}\n",
    "uffwrite._write_set(data,'add')"
   ]
  },
  {
   "cell_type": "code",
   "execution_count": 12,
   "metadata": {},
   "outputs": [],
   "source": [
    "n = len(uffwrite.get_set_types())"
   ]
  },
  {
   "cell_type": "code",
   "execution_count": 13,
   "metadata": {},
   "outputs": [],
   "source": [
    "frfs = np.load('FRFs_mini.npy')\n",
    "freq = np.load('Freq_mini.npy')"
   ]
  },
  {
   "cell_type": "code",
   "execution_count": 15,
   "metadata": {},
   "outputs": [],
   "source": [
    "for o in range(3):\n",
    "    for v in range(3):\n",
    "        for t in range(43):\n",
    "            resp_node = 0\n",
    "            resp_direc = o+1\n",
    "            ref_node = t+1\n",
    "            ref_direc = v+1\n",
    "            frf = frfs[o,v,t,:2000]\n",
    "            datai={'type':58,\n",
    "                         'binary':1,\n",
    "                         'func_type':4, \n",
    "                         'rsp_node': resp_node, \n",
    "                         'rsp_dir': resp_direc, \n",
    "                         'ref_dir': ref_direc, \n",
    "                         'ref_node': ref_node,\n",
    "                         'data': frf,\n",
    "                         'x': freq,\n",
    "                         'id1': 'id1', \n",
    "                         'rsp_ent_name': 'name',\n",
    "                         'ref_ent_name': 'name',\n",
    "                         'abscissa_spacing':1,\n",
    "                         'abscissa_spec_data_type':18,\n",
    "                         'ordinate_spec_data_type':12,\n",
    "                         'orddenom_spec_data_type':13}\n",
    "            uffwrite._write_set(datai,'add')\n",
    "            "
   ]
  },
  {
   "cell_type": "code",
   "execution_count": 16,
   "metadata": {},
   "outputs": [],
   "source": [
    "v_x,v_y,v_z = np.load('oblike.npy')\n",
    "freq = np.load('nar-frek.npy')"
   ]
  },
  {
   "cell_type": "code",
   "execution_count": 17,
   "metadata": {},
   "outputs": [],
   "source": [
    "n=10\n",
    "if v_x.shape[1]<10:\n",
    "    n=v_x.shape[1]\n",
    "for i in range(n):\n",
    "    vektor_x = v_x[:,i]\n",
    "    vektor_y = v_y[:,i]\n",
    "    vektor_z = v_z[:,i]\n",
    "    data={'type':55,\n",
    "          'analysis_type':2,\n",
    "          'data_ch':3,\n",
    "          'spec_data_type':8,\n",
    "          'load_case':0,\n",
    "          'mode_n':i,\n",
    "          'freq':freq[i],\n",
    "          'node_nums':np.array(range(1,44)),\n",
    "          'r1':vektor_x,\n",
    "          'r2':vektor_y,\n",
    "          'r3':vektor_z,\n",
    "          'r4':np.zeros_like(vektor_x),\n",
    "          'r5':np.zeros_like(vektor_x),\n",
    "          'r6':np.zeros_like(vektor_x),\n",
    "         }\n",
    "    uffwrite._write_set(data,'add')"
   ]
  },
  {
   "cell_type": "code",
   "execution_count": 20,
   "metadata": {},
   "outputs": [
    {
     "data": {
      "text/plain": [
       "10"
      ]
     },
     "execution_count": 20,
     "metadata": {},
     "output_type": "execute_result"
    }
   ],
   "source": [
    "j=0\n",
    "for s in pyuff.UFF('./Tree_structure_mini.uff').get_set_types():\n",
    "    if s==55:\n",
    "        j+=1"
   ]
  },
  {
   "cell_type": "code",
   "execution_count": 21,
   "metadata": {},
   "outputs": [
    {
     "data": {
      "text/plain": [
       "387"
      ]
     },
     "execution_count": 21,
     "metadata": {},
     "output_type": "execute_result"
    }
   ],
   "source": [
    "j=0\n",
    "for s in pyuff.UFF('./Tree_structure_mini.uff').get_set_types():\n",
    "    if s==58:\n",
    "        j+=1"
   ]
  }
 ],
 "metadata": {
  "kernelspec": {
   "display_name": "Python 3",
   "language": "python",
   "name": "python3"
  },
  "language_info": {
   "codemirror_mode": {
    "name": "ipython",
    "version": 3
   },
   "file_extension": ".py",
   "mimetype": "text/x-python",
   "name": "python",
   "nbconvert_exporter": "python",
   "pygments_lexer": "ipython3",
   "version": "3.6.4"
  }
 },
 "nbformat": 4,
 "nbformat_minor": 2
}
